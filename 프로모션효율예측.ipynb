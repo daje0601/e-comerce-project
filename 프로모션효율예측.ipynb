{
  "nbformat": 4,
  "nbformat_minor": 0,
  "metadata": {
    "colab": {
      "name": "프로모션 효율 예측.ipynb",
      "provenance": [],
      "mount_file_id": "1iMdw7v-ZrqmWCPZWPTdFV1h_kYBO4BB9",
      "authorship_tag": "ABX9TyNYcJOPmIFi4OYY2QiaJEru",
      "include_colab_link": true
    },
    "kernelspec": {
      "name": "python3",
      "display_name": "Python 3"
    },
    "language_info": {
      "name": "python"
    }
  },
  "cells": [
    {
      "cell_type": "markdown",
      "metadata": {
        "id": "view-in-github",
        "colab_type": "text"
      },
      "source": [
        "<a href=\"https://colab.research.google.com/github/daje0601/e-comerce-project/blob/main/%ED%94%84%EB%A1%9C%EB%AA%A8%EC%85%98%ED%9A%A8%EC%9C%A8%EC%98%88%EC%B8%A1.ipynb\" target=\"_parent\"><img src=\"https://colab.research.google.com/assets/colab-badge.svg\" alt=\"Open In Colab\"/></a>"
      ]
    },
    {
      "cell_type": "code",
      "metadata": {
        "colab": {
          "base_uri": "https://localhost:8080/"
        },
        "id": "6SP_kyob6uvP",
        "outputId": "dc7b2665-c9b9-401e-c2c0-b5e14b137d61"
      },
      "source": [
        "cd /content/drive/MyDrive/fastcampus/이커머스/"
      ],
      "execution_count": 71,
      "outputs": [
        {
          "output_type": "stream",
          "text": [
            "/content/drive/MyDrive/fastcampus/이커머스\n"
          ],
          "name": "stdout"
        }
      ]
    },
    {
      "cell_type": "code",
      "metadata": {
        "colab": {
          "base_uri": "https://localhost:8080/"
        },
        "id": "uIIvSRWC7J7m",
        "outputId": "ceb21149-8352-45ee-82c3-bffd80cdb7dc"
      },
      "source": [
        "ls"
      ],
      "execution_count": 72,
      "outputs": [
        {
          "output_type": "stream",
          "text": [
            "advertising.csv  ecommerce.csv  member.csv\n",
            "churn.csv        galaxy.csv     transaction.csv\n"
          ],
          "name": "stdout"
        }
      ]
    },
    {
      "cell_type": "code",
      "metadata": {
        "id": "44hGBGxG7K_K"
      },
      "source": [
        "import pandas as pd \n",
        "import numpy as np\n",
        "import matplotlib.pyplot as plt\n",
        "import seaborn as sns"
      ],
      "execution_count": 73,
      "outputs": []
    },
    {
      "cell_type": "code",
      "metadata": {
        "id": "mc2QWILT7UO7"
      },
      "source": [
        "member = pd.read_csv(\"member.csv\")\n",
        "transaction = pd.read_csv(\"transaction.csv\")"
      ],
      "execution_count": 74,
      "outputs": []
    },
    {
      "cell_type": "code",
      "metadata": {
        "colab": {
          "base_uri": "https://localhost:8080/",
          "height": 110
        },
        "id": "4coSB6UK7e6H",
        "outputId": "c224f7fa-f4fe-499e-ecf2-510dfff379d9"
      },
      "source": [
        "member.head(2)"
      ],
      "execution_count": 75,
      "outputs": [
        {
          "output_type": "execute_result",
          "data": {
            "text/html": [
              "<div>\n",
              "<style scoped>\n",
              "    .dataframe tbody tr th:only-of-type {\n",
              "        vertical-align: middle;\n",
              "    }\n",
              "\n",
              "    .dataframe tbody tr th {\n",
              "        vertical-align: top;\n",
              "    }\n",
              "\n",
              "    .dataframe thead th {\n",
              "        text-align: right;\n",
              "    }\n",
              "</style>\n",
              "<table border=\"1\" class=\"dataframe\">\n",
              "  <thead>\n",
              "    <tr style=\"text-align: right;\">\n",
              "      <th></th>\n",
              "      <th>id</th>\n",
              "      <th>recency</th>\n",
              "      <th>zip_code</th>\n",
              "      <th>is_referral</th>\n",
              "      <th>channel</th>\n",
              "      <th>conversion</th>\n",
              "    </tr>\n",
              "  </thead>\n",
              "  <tbody>\n",
              "    <tr>\n",
              "      <th>0</th>\n",
              "      <td>906145</td>\n",
              "      <td>10</td>\n",
              "      <td>Surburban</td>\n",
              "      <td>0</td>\n",
              "      <td>Phone</td>\n",
              "      <td>0</td>\n",
              "    </tr>\n",
              "    <tr>\n",
              "      <th>1</th>\n",
              "      <td>184478</td>\n",
              "      <td>6</td>\n",
              "      <td>Rural</td>\n",
              "      <td>1</td>\n",
              "      <td>Web</td>\n",
              "      <td>0</td>\n",
              "    </tr>\n",
              "  </tbody>\n",
              "</table>\n",
              "</div>"
            ],
            "text/plain": [
              "       id  recency   zip_code  is_referral channel  conversion\n",
              "0  906145       10  Surburban            0   Phone           0\n",
              "1  184478        6      Rural            1     Web           0"
            ]
          },
          "metadata": {
            "tags": []
          },
          "execution_count": 75
        }
      ]
    },
    {
      "cell_type": "markdown",
      "metadata": {
        "id": "ZbMhQqiY7lxH"
      },
      "source": [
        "recency : 마지막 거래 일  \n",
        "zip_code : 우편번호가 가공된 데이터  \n",
        "is_referral : 추천인이 있는지 없는지   \n",
        "channel\t: 웹과 폰 중에 어느 채널이 일용하였는지   \n",
        "conversion : 프로모션 전환여부(target)"
      ]
    },
    {
      "cell_type": "code",
      "metadata": {
        "colab": {
          "base_uri": "https://localhost:8080/"
        },
        "id": "dHkzMSyP7im7",
        "outputId": "9154dedb-9777-481f-b050-2a5fba5fcdc7"
      },
      "source": [
        "member.info()"
      ],
      "execution_count": 76,
      "outputs": [
        {
          "output_type": "stream",
          "text": [
            "<class 'pandas.core.frame.DataFrame'>\n",
            "RangeIndex: 64000 entries, 0 to 63999\n",
            "Data columns (total 6 columns):\n",
            " #   Column       Non-Null Count  Dtype \n",
            "---  ------       --------------  ----- \n",
            " 0   id           64000 non-null  int64 \n",
            " 1   recency      64000 non-null  int64 \n",
            " 2   zip_code     64000 non-null  object\n",
            " 3   is_referral  64000 non-null  int64 \n",
            " 4   channel      64000 non-null  object\n",
            " 5   conversion   64000 non-null  int64 \n",
            "dtypes: int64(4), object(2)\n",
            "memory usage: 2.9+ MB\n"
          ],
          "name": "stdout"
        }
      ]
    },
    {
      "cell_type": "markdown",
      "metadata": {
        "id": "bfd2D-Mb8CNf"
      },
      "source": [
        "데이터가 너무 깨끗한.. 데이터 이다.."
      ]
    },
    {
      "cell_type": "code",
      "metadata": {
        "colab": {
          "base_uri": "https://localhost:8080/",
          "height": 294
        },
        "id": "xX25Zv-g8AqE",
        "outputId": "62b1e299-4360-4f25-a9cc-35922869dfa2"
      },
      "source": [
        "member.describe()"
      ],
      "execution_count": 77,
      "outputs": [
        {
          "output_type": "execute_result",
          "data": {
            "text/html": [
              "<div>\n",
              "<style scoped>\n",
              "    .dataframe tbody tr th:only-of-type {\n",
              "        vertical-align: middle;\n",
              "    }\n",
              "\n",
              "    .dataframe tbody tr th {\n",
              "        vertical-align: top;\n",
              "    }\n",
              "\n",
              "    .dataframe thead th {\n",
              "        text-align: right;\n",
              "    }\n",
              "</style>\n",
              "<table border=\"1\" class=\"dataframe\">\n",
              "  <thead>\n",
              "    <tr style=\"text-align: right;\">\n",
              "      <th></th>\n",
              "      <th>id</th>\n",
              "      <th>recency</th>\n",
              "      <th>is_referral</th>\n",
              "      <th>conversion</th>\n",
              "    </tr>\n",
              "  </thead>\n",
              "  <tbody>\n",
              "    <tr>\n",
              "      <th>count</th>\n",
              "      <td>64000.000000</td>\n",
              "      <td>64000.000000</td>\n",
              "      <td>64000.000000</td>\n",
              "      <td>64000.000000</td>\n",
              "    </tr>\n",
              "    <tr>\n",
              "      <th>mean</th>\n",
              "      <td>550694.137797</td>\n",
              "      <td>5.763734</td>\n",
              "      <td>0.502250</td>\n",
              "      <td>0.146781</td>\n",
              "    </tr>\n",
              "    <tr>\n",
              "      <th>std</th>\n",
              "      <td>259105.689773</td>\n",
              "      <td>3.507592</td>\n",
              "      <td>0.499999</td>\n",
              "      <td>0.353890</td>\n",
              "    </tr>\n",
              "    <tr>\n",
              "      <th>min</th>\n",
              "      <td>100001.000000</td>\n",
              "      <td>1.000000</td>\n",
              "      <td>0.000000</td>\n",
              "      <td>0.000000</td>\n",
              "    </tr>\n",
              "    <tr>\n",
              "      <th>25%</th>\n",
              "      <td>326772.000000</td>\n",
              "      <td>2.000000</td>\n",
              "      <td>0.000000</td>\n",
              "      <td>0.000000</td>\n",
              "    </tr>\n",
              "    <tr>\n",
              "      <th>50%</th>\n",
              "      <td>551300.000000</td>\n",
              "      <td>6.000000</td>\n",
              "      <td>1.000000</td>\n",
              "      <td>0.000000</td>\n",
              "    </tr>\n",
              "    <tr>\n",
              "      <th>75%</th>\n",
              "      <td>774914.500000</td>\n",
              "      <td>9.000000</td>\n",
              "      <td>1.000000</td>\n",
              "      <td>0.000000</td>\n",
              "    </tr>\n",
              "    <tr>\n",
              "      <th>max</th>\n",
              "      <td>999997.000000</td>\n",
              "      <td>12.000000</td>\n",
              "      <td>1.000000</td>\n",
              "      <td>1.000000</td>\n",
              "    </tr>\n",
              "  </tbody>\n",
              "</table>\n",
              "</div>"
            ],
            "text/plain": [
              "                  id       recency   is_referral    conversion\n",
              "count   64000.000000  64000.000000  64000.000000  64000.000000\n",
              "mean   550694.137797      5.763734      0.502250      0.146781\n",
              "std    259105.689773      3.507592      0.499999      0.353890\n",
              "min    100001.000000      1.000000      0.000000      0.000000\n",
              "25%    326772.000000      2.000000      0.000000      0.000000\n",
              "50%    551300.000000      6.000000      1.000000      0.000000\n",
              "75%    774914.500000      9.000000      1.000000      0.000000\n",
              "max    999997.000000     12.000000      1.000000      1.000000"
            ]
          },
          "metadata": {
            "tags": []
          },
          "execution_count": 77
        }
      ]
    },
    {
      "cell_type": "code",
      "metadata": {
        "colab": {
          "base_uri": "https://localhost:8080/",
          "height": 110
        },
        "id": "RZPO0buB8Gmk",
        "outputId": "ccc26ce9-5dea-42b9-c57c-cbf21137af40"
      },
      "source": [
        "transaction.head(2)"
      ],
      "execution_count": 78,
      "outputs": [
        {
          "output_type": "execute_result",
          "data": {
            "text/html": [
              "<div>\n",
              "<style scoped>\n",
              "    .dataframe tbody tr th:only-of-type {\n",
              "        vertical-align: middle;\n",
              "    }\n",
              "\n",
              "    .dataframe tbody tr th {\n",
              "        vertical-align: top;\n",
              "    }\n",
              "\n",
              "    .dataframe thead th {\n",
              "        text-align: right;\n",
              "    }\n",
              "</style>\n",
              "<table border=\"1\" class=\"dataframe\">\n",
              "  <thead>\n",
              "    <tr style=\"text-align: right;\">\n",
              "      <th></th>\n",
              "      <th>id</th>\n",
              "      <th>num_item</th>\n",
              "      <th>total_amount</th>\n",
              "    </tr>\n",
              "  </thead>\n",
              "  <tbody>\n",
              "    <tr>\n",
              "      <th>0</th>\n",
              "      <td>906145</td>\n",
              "      <td>5</td>\n",
              "      <td>34000</td>\n",
              "    </tr>\n",
              "    <tr>\n",
              "      <th>1</th>\n",
              "      <td>906145</td>\n",
              "      <td>1</td>\n",
              "      <td>27000</td>\n",
              "    </tr>\n",
              "  </tbody>\n",
              "</table>\n",
              "</div>"
            ],
            "text/plain": [
              "       id  num_item  total_amount\n",
              "0  906145         5         34000\n",
              "1  906145         1         27000"
            ]
          },
          "metadata": {
            "tags": []
          },
          "execution_count": 78
        }
      ]
    },
    {
      "cell_type": "markdown",
      "metadata": {
        "id": "v3s2Xws18YvY"
      },
      "source": [
        "id : 회원의 id   \n",
        "num_item : 한번 거래에서 몇개의 item을 이용하였는지   \n",
        "total_amount : 총 거래 금액   "
      ]
    },
    {
      "cell_type": "code",
      "metadata": {
        "colab": {
          "base_uri": "https://localhost:8080/"
        },
        "id": "1-JOcbx78Wzu",
        "outputId": "eeeef036-1bbd-4c02-af9e-dee780e01340"
      },
      "source": [
        "transaction.info()"
      ],
      "execution_count": 79,
      "outputs": [
        {
          "output_type": "stream",
          "text": [
            "<class 'pandas.core.frame.DataFrame'>\n",
            "RangeIndex: 196836 entries, 0 to 196835\n",
            "Data columns (total 3 columns):\n",
            " #   Column        Non-Null Count   Dtype\n",
            "---  ------        --------------   -----\n",
            " 0   id            196836 non-null  int64\n",
            " 1   num_item      196836 non-null  int64\n",
            " 2   total_amount  196836 non-null  int64\n",
            "dtypes: int64(3)\n",
            "memory usage: 4.5 MB\n"
          ],
          "name": "stdout"
        }
      ]
    },
    {
      "cell_type": "code",
      "metadata": {
        "id": "_OJrQf5GBeX5"
      },
      "source": [
        "transaction[\"avg_price\"] = transaction[\"total_amount\"] / transaction[\"num_item\"]"
      ],
      "execution_count": 80,
      "outputs": []
    },
    {
      "cell_type": "code",
      "metadata": {
        "colab": {
          "base_uri": "https://localhost:8080/",
          "height": 141
        },
        "id": "Gvp_ukEx8neg",
        "outputId": "bb982b56-45df-4929-e37e-22dfc57a8ce7"
      },
      "source": [
        "df = transaction.groupby(by=\"id\").mean()\n",
        "df.head(2)"
      ],
      "execution_count": 81,
      "outputs": [
        {
          "output_type": "execute_result",
          "data": {
            "text/html": [
              "<div>\n",
              "<style scoped>\n",
              "    .dataframe tbody tr th:only-of-type {\n",
              "        vertical-align: middle;\n",
              "    }\n",
              "\n",
              "    .dataframe tbody tr th {\n",
              "        vertical-align: top;\n",
              "    }\n",
              "\n",
              "    .dataframe thead th {\n",
              "        text-align: right;\n",
              "    }\n",
              "</style>\n",
              "<table border=\"1\" class=\"dataframe\">\n",
              "  <thead>\n",
              "    <tr style=\"text-align: right;\">\n",
              "      <th></th>\n",
              "      <th>num_item</th>\n",
              "      <th>total_amount</th>\n",
              "      <th>avg_price</th>\n",
              "    </tr>\n",
              "    <tr>\n",
              "      <th>id</th>\n",
              "      <th></th>\n",
              "      <th></th>\n",
              "      <th></th>\n",
              "    </tr>\n",
              "  </thead>\n",
              "  <tbody>\n",
              "    <tr>\n",
              "      <th>100001</th>\n",
              "      <td>3.5</td>\n",
              "      <td>26000.0</td>\n",
              "      <td>7500.0</td>\n",
              "    </tr>\n",
              "    <tr>\n",
              "      <th>100008</th>\n",
              "      <td>5.0</td>\n",
              "      <td>26000.0</td>\n",
              "      <td>5200.0</td>\n",
              "    </tr>\n",
              "  </tbody>\n",
              "</table>\n",
              "</div>"
            ],
            "text/plain": [
              "        num_item  total_amount  avg_price\n",
              "id                                       \n",
              "100001       3.5       26000.0     7500.0\n",
              "100008       5.0       26000.0     5200.0"
            ]
          },
          "metadata": {
            "tags": []
          },
          "execution_count": 81
        }
      ]
    },
    {
      "cell_type": "code",
      "metadata": {
        "id": "rywEF1CJ82el"
      },
      "source": [
        "transaction_count = transaction[\"id\"].value_counts()"
      ],
      "execution_count": 82,
      "outputs": []
    },
    {
      "cell_type": "code",
      "metadata": {
        "colab": {
          "base_uri": "https://localhost:8080/",
          "height": 110
        },
        "id": "pivJoQreCcXc",
        "outputId": "99454666-4f46-4fda-d9f2-e66234ff261b"
      },
      "source": [
        "transaction_df = pd.concat([df, transaction_count], axis=1)\n",
        "transaction_df = transaction_df.rename(columns={\"id\":\"count\"})\n",
        "transaction_df.head(2)"
      ],
      "execution_count": 83,
      "outputs": [
        {
          "output_type": "execute_result",
          "data": {
            "text/html": [
              "<div>\n",
              "<style scoped>\n",
              "    .dataframe tbody tr th:only-of-type {\n",
              "        vertical-align: middle;\n",
              "    }\n",
              "\n",
              "    .dataframe tbody tr th {\n",
              "        vertical-align: top;\n",
              "    }\n",
              "\n",
              "    .dataframe thead th {\n",
              "        text-align: right;\n",
              "    }\n",
              "</style>\n",
              "<table border=\"1\" class=\"dataframe\">\n",
              "  <thead>\n",
              "    <tr style=\"text-align: right;\">\n",
              "      <th></th>\n",
              "      <th>num_item</th>\n",
              "      <th>total_amount</th>\n",
              "      <th>avg_price</th>\n",
              "      <th>count</th>\n",
              "    </tr>\n",
              "  </thead>\n",
              "  <tbody>\n",
              "    <tr>\n",
              "      <th>100001</th>\n",
              "      <td>3.5</td>\n",
              "      <td>26000.0</td>\n",
              "      <td>7500.0</td>\n",
              "      <td>2</td>\n",
              "    </tr>\n",
              "    <tr>\n",
              "      <th>100008</th>\n",
              "      <td>5.0</td>\n",
              "      <td>26000.0</td>\n",
              "      <td>5200.0</td>\n",
              "      <td>1</td>\n",
              "    </tr>\n",
              "  </tbody>\n",
              "</table>\n",
              "</div>"
            ],
            "text/plain": [
              "        num_item  total_amount  avg_price  count\n",
              "100001       3.5       26000.0     7500.0      2\n",
              "100008       5.0       26000.0     5200.0      1"
            ]
          },
          "metadata": {
            "tags": []
          },
          "execution_count": 83
        }
      ]
    },
    {
      "cell_type": "code",
      "metadata": {
        "id": "zUjl8KMe87So"
      },
      "source": [
        "member.set_index(\"id\", inplace=True)"
      ],
      "execution_count": 84,
      "outputs": []
    },
    {
      "cell_type": "code",
      "metadata": {
        "id": "9mYboKmKBAOa"
      },
      "source": [
        "df = member.join(transaction_df)"
      ],
      "execution_count": 85,
      "outputs": []
    },
    {
      "cell_type": "code",
      "metadata": {
        "colab": {
          "base_uri": "https://localhost:8080/"
        },
        "id": "pGWqGGkaDm_D",
        "outputId": "6243b190-b1db-494a-b36e-95748b23f581"
      },
      "source": [
        "print(df.isnull().sum())\n",
        "print(df.nunique())"
      ],
      "execution_count": 86,
      "outputs": [
        {
          "output_type": "stream",
          "text": [
            "recency         0\n",
            "zip_code        0\n",
            "is_referral     0\n",
            "channel         0\n",
            "conversion      0\n",
            "num_item        0\n",
            "total_amount    0\n",
            "avg_price       0\n",
            "count           0\n",
            "dtype: int64\n",
            "recency           12\n",
            "zip_code           3\n",
            "is_referral        2\n",
            "channel            3\n",
            "conversion         2\n",
            "num_item          50\n",
            "total_amount     266\n",
            "avg_price       8493\n",
            "count              5\n",
            "dtype: int64\n"
          ],
          "name": "stdout"
        }
      ]
    },
    {
      "cell_type": "code",
      "metadata": {
        "colab": {
          "base_uri": "https://localhost:8080/"
        },
        "id": "IDvZqHqnDn2Z",
        "outputId": "49f31747-314d-4ada-fb66-23c9b494b1c7"
      },
      "source": [
        "df.nunique()"
      ],
      "execution_count": 87,
      "outputs": [
        {
          "output_type": "execute_result",
          "data": {
            "text/plain": [
              "recency           12\n",
              "zip_code           3\n",
              "is_referral        2\n",
              "channel            3\n",
              "conversion         2\n",
              "num_item          50\n",
              "total_amount     266\n",
              "avg_price       8493\n",
              "count              5\n",
              "dtype: int64"
            ]
          },
          "metadata": {
            "tags": []
          },
          "execution_count": 87
        }
      ]
    },
    {
      "cell_type": "code",
      "metadata": {
        "colab": {
          "base_uri": "https://localhost:8080/"
        },
        "id": "GglvrTN2D6PZ",
        "outputId": "58a27bfe-8584-4654-8d7a-a44646ec6015"
      },
      "source": [
        "df.dtypes"
      ],
      "execution_count": 88,
      "outputs": [
        {
          "output_type": "execute_result",
          "data": {
            "text/plain": [
              "recency           int64\n",
              "zip_code         object\n",
              "is_referral       int64\n",
              "channel          object\n",
              "conversion        int64\n",
              "num_item        float64\n",
              "total_amount    float64\n",
              "avg_price       float64\n",
              "count             int64\n",
              "dtype: object"
            ]
          },
          "metadata": {
            "tags": []
          },
          "execution_count": 88
        }
      ]
    },
    {
      "cell_type": "code",
      "metadata": {
        "colab": {
          "base_uri": "https://localhost:8080/"
        },
        "id": "vuujkAkKEcRJ",
        "outputId": "566ad53f-6596-47cc-bc83-6953b51a73f7"
      },
      "source": [
        "print(df.zip_code.value_counts())\n",
        "print(df.channel.value_counts())"
      ],
      "execution_count": 89,
      "outputs": [
        {
          "output_type": "stream",
          "text": [
            "Surburban    28776\n",
            "Urban        25661\n",
            "Rural         9563\n",
            "Name: zip_code, dtype: int64\n",
            "Web             28217\n",
            "Phone           28021\n",
            "Multichannel     7762\n",
            "Name: channel, dtype: int64\n"
          ],
          "name": "stdout"
        }
      ]
    },
    {
      "cell_type": "code",
      "metadata": {
        "id": "X5LoIrKXEf-9"
      },
      "source": [
        "df = pd.get_dummies(df, columns=[\"zip_code\", \"channel\"], drop_first=True)"
      ],
      "execution_count": 90,
      "outputs": []
    },
    {
      "cell_type": "code",
      "metadata": {
        "colab": {
          "base_uri": "https://localhost:8080/",
          "height": 161
        },
        "id": "Vqws4c6mEv2j",
        "outputId": "9060698d-be41-4be3-a005-df85d103c493"
      },
      "source": [
        "df.head(2)"
      ],
      "execution_count": 91,
      "outputs": [
        {
          "output_type": "execute_result",
          "data": {
            "text/html": [
              "<div>\n",
              "<style scoped>\n",
              "    .dataframe tbody tr th:only-of-type {\n",
              "        vertical-align: middle;\n",
              "    }\n",
              "\n",
              "    .dataframe tbody tr th {\n",
              "        vertical-align: top;\n",
              "    }\n",
              "\n",
              "    .dataframe thead th {\n",
              "        text-align: right;\n",
              "    }\n",
              "</style>\n",
              "<table border=\"1\" class=\"dataframe\">\n",
              "  <thead>\n",
              "    <tr style=\"text-align: right;\">\n",
              "      <th></th>\n",
              "      <th>recency</th>\n",
              "      <th>is_referral</th>\n",
              "      <th>conversion</th>\n",
              "      <th>num_item</th>\n",
              "      <th>total_amount</th>\n",
              "      <th>avg_price</th>\n",
              "      <th>count</th>\n",
              "      <th>zip_code_Surburban</th>\n",
              "      <th>zip_code_Urban</th>\n",
              "      <th>channel_Phone</th>\n",
              "      <th>channel_Web</th>\n",
              "    </tr>\n",
              "    <tr>\n",
              "      <th>id</th>\n",
              "      <th></th>\n",
              "      <th></th>\n",
              "      <th></th>\n",
              "      <th></th>\n",
              "      <th></th>\n",
              "      <th></th>\n",
              "      <th></th>\n",
              "      <th></th>\n",
              "      <th></th>\n",
              "      <th></th>\n",
              "      <th></th>\n",
              "    </tr>\n",
              "  </thead>\n",
              "  <tbody>\n",
              "    <tr>\n",
              "      <th>906145</th>\n",
              "      <td>10</td>\n",
              "      <td>0</td>\n",
              "      <td>0</td>\n",
              "      <td>3.333333</td>\n",
              "      <td>31333.333333</td>\n",
              "      <td>14016.666667</td>\n",
              "      <td>3</td>\n",
              "      <td>1</td>\n",
              "      <td>0</td>\n",
              "      <td>1</td>\n",
              "      <td>0</td>\n",
              "    </tr>\n",
              "    <tr>\n",
              "      <th>184478</th>\n",
              "      <td>6</td>\n",
              "      <td>1</td>\n",
              "      <td>0</td>\n",
              "      <td>4.000000</td>\n",
              "      <td>29000.000000</td>\n",
              "      <td>7250.000000</td>\n",
              "      <td>1</td>\n",
              "      <td>0</td>\n",
              "      <td>0</td>\n",
              "      <td>0</td>\n",
              "      <td>1</td>\n",
              "    </tr>\n",
              "  </tbody>\n",
              "</table>\n",
              "</div>"
            ],
            "text/plain": [
              "        recency  is_referral  ...  channel_Phone  channel_Web\n",
              "id                            ...                            \n",
              "906145       10            0  ...              1            0\n",
              "184478        6            1  ...              0            1\n",
              "\n",
              "[2 rows x 11 columns]"
            ]
          },
          "metadata": {
            "tags": []
          },
          "execution_count": 91
        }
      ]
    },
    {
      "cell_type": "code",
      "metadata": {
        "colab": {
          "base_uri": "https://localhost:8080/"
        },
        "id": "iVj_Vtu7PetO",
        "outputId": "d0b72778-9b17-4e8a-f5cf-f4a5e245b208"
      },
      "source": [
        "df.conversion.value_counts(normalize=True)"
      ],
      "execution_count": 92,
      "outputs": [
        {
          "output_type": "execute_result",
          "data": {
            "text/plain": [
              "0    0.853219\n",
              "1    0.146781\n",
              "Name: conversion, dtype: float64"
            ]
          },
          "metadata": {
            "tags": []
          },
          "execution_count": 92
        }
      ]
    },
    {
      "cell_type": "code",
      "metadata": {
        "colab": {
          "base_uri": "https://localhost:8080/"
        },
        "id": "-BMsNv8TExco",
        "outputId": "e11ad43a-d8e5-4bf4-92ec-1b5826ee5f7c"
      },
      "source": [
        "from sklearn.model_selection import train_test_split\n",
        "\n",
        "\n",
        "X = df.drop(\"conversion\", axis=1)\n",
        "y = df[\"conversion\"]\n",
        "\n",
        "X_train, X_test, y_train, y_test = train_test_split(X, y, test_size=0.2, random_state=42)\n",
        "X_train.shape, X_test.shape, y_train.shape, y_test.shape"
      ],
      "execution_count": 93,
      "outputs": [
        {
          "output_type": "execute_result",
          "data": {
            "text/plain": [
              "((51200, 10), (12800, 10), (51200,), (12800,))"
            ]
          },
          "metadata": {
            "tags": []
          },
          "execution_count": 93
        }
      ]
    },
    {
      "cell_type": "code",
      "metadata": {
        "id": "MBlVeVlVPRem"
      },
      "source": [
        "# from imblearn.over_sampling import SMOTE, RandomOverSampler\n",
        "# smote=SMOTE(sampling_strategy='auto', random_state=42)\n",
        "# X_train, y_train =  smote.fit_sample(X_train, y_train)\n",
        "# X_train.shape, y_train.shape"
      ],
      "execution_count": 94,
      "outputs": []
    },
    {
      "cell_type": "code",
      "metadata": {
        "colab": {
          "base_uri": "https://localhost:8080/"
        },
        "id": "Aptb2EstO-NP",
        "outputId": "fe30e3ec-ba1c-411c-b131-651ad15eff75"
      },
      "source": [
        "from sklearn.ensemble import RandomForestClassifier\n",
        "\n",
        "model = RandomForestClassifier(max_depth=10, random_state=42)\n",
        "model.fit(X_train, y_train)"
      ],
      "execution_count": 95,
      "outputs": [
        {
          "output_type": "execute_result",
          "data": {
            "text/plain": [
              "RandomForestClassifier(bootstrap=True, ccp_alpha=0.0, class_weight=None,\n",
              "                       criterion='gini', max_depth=10, max_features='auto',\n",
              "                       max_leaf_nodes=None, max_samples=None,\n",
              "                       min_impurity_decrease=0.0, min_impurity_split=None,\n",
              "                       min_samples_leaf=1, min_samples_split=2,\n",
              "                       min_weight_fraction_leaf=0.0, n_estimators=100,\n",
              "                       n_jobs=None, oob_score=False, random_state=42, verbose=0,\n",
              "                       warm_start=False)"
            ]
          },
          "metadata": {
            "tags": []
          },
          "execution_count": 95
        }
      ]
    },
    {
      "cell_type": "code",
      "metadata": {
        "id": "RuYwMZnoPJc2"
      },
      "source": [
        "y_pred = model.predict(X_test)"
      ],
      "execution_count": 96,
      "outputs": []
    },
    {
      "cell_type": "code",
      "metadata": {
        "colab": {
          "base_uri": "https://localhost:8080/"
        },
        "id": "mtJ-fZvIQ1Xf",
        "outputId": "5bf04234-d4fd-4457-ab23-41050fa68408"
      },
      "source": [
        "from sklearn.metrics import accuracy_score, confusion_matrix, classification_report, recall_score, precision_score, f1_score\n",
        "\n",
        "print(classification_report(y_test, y_pred))"
      ],
      "execution_count": 97,
      "outputs": [
        {
          "output_type": "stream",
          "text": [
            "              precision    recall  f1-score   support\n",
            "\n",
            "           0       0.87      1.00      0.93     10939\n",
            "           1       0.87      0.14      0.24      1861\n",
            "\n",
            "    accuracy                           0.87     12800\n",
            "   macro avg       0.87      0.57      0.58     12800\n",
            "weighted avg       0.87      0.87      0.83     12800\n",
            "\n"
          ],
          "name": "stdout"
        }
      ]
    },
    {
      "cell_type": "code",
      "metadata": {
        "colab": {
          "base_uri": "https://localhost:8080/"
        },
        "id": "bHWPgusiQ-_k",
        "outputId": "32898f61-42a4-4aca-d99c-8f714cef8b0f"
      },
      "source": [
        "print(accuracy_score(y_test, y_pred))\n",
        "print(precision_score(y_test, y_pred))\n",
        "print(recall_score(y_test, y_pred))\n",
        "print(\"f1_score\", f1_score(y_test, y_pred))"
      ],
      "execution_count": 98,
      "outputs": [
        {
          "output_type": "stream",
          "text": [
            "0.871875\n",
            "0.8745762711864407\n",
            "0.138635142396561\n",
            "f1_score 0.23933209647495363\n"
          ],
          "name": "stdout"
        }
      ]
    },
    {
      "cell_type": "markdown",
      "metadata": {
        "id": "Rz7lQXv32orr"
      },
      "source": [
        "# RandomForest Regressor\n",
        "\n"
      ]
    },
    {
      "cell_type": "code",
      "metadata": {
        "id": "ueMCFkkvSUT9"
      },
      "source": [
        "from sklearn.ensemble import RandomForestRegressor"
      ],
      "execution_count": 99,
      "outputs": []
    },
    {
      "cell_type": "code",
      "metadata": {
        "id": "Hm3aVndc24Qc"
      },
      "source": [
        "rf = RandomForestRegressor(max_depth=10, random_state=42)"
      ],
      "execution_count": 100,
      "outputs": []
    },
    {
      "cell_type": "code",
      "metadata": {
        "colab": {
          "base_uri": "https://localhost:8080/"
        },
        "id": "fb7HFzmi2-Lz",
        "outputId": "2149a3a0-0c3a-4de5-a375-a1db1e7f5228"
      },
      "source": [
        "rf.fit(X_train, y_train)"
      ],
      "execution_count": 101,
      "outputs": [
        {
          "output_type": "execute_result",
          "data": {
            "text/plain": [
              "RandomForestRegressor(bootstrap=True, ccp_alpha=0.0, criterion='mse',\n",
              "                      max_depth=10, max_features='auto', max_leaf_nodes=None,\n",
              "                      max_samples=None, min_impurity_decrease=0.0,\n",
              "                      min_impurity_split=None, min_samples_leaf=1,\n",
              "                      min_samples_split=2, min_weight_fraction_leaf=0.0,\n",
              "                      n_estimators=100, n_jobs=None, oob_score=False,\n",
              "                      random_state=42, verbose=0, warm_start=False)"
            ]
          },
          "metadata": {
            "tags": []
          },
          "execution_count": 101
        }
      ]
    },
    {
      "cell_type": "code",
      "metadata": {
        "id": "T2byLVsU3A8N"
      },
      "source": [
        "y_pred = rf.predict(X_test)"
      ],
      "execution_count": 102,
      "outputs": []
    },
    {
      "cell_type": "code",
      "metadata": {
        "id": "fIASnG414V9Y"
      },
      "source": [
        "def conv(x):\n",
        "  if x >= 0.5:\n",
        "    return 1\n",
        "  else:\n",
        "    return 0"
      ],
      "execution_count": 103,
      "outputs": []
    },
    {
      "cell_type": "code",
      "metadata": {
        "colab": {
          "base_uri": "https://localhost:8080/"
        },
        "id": "0pYkV8vy3DiC",
        "outputId": "46447f92-abdc-4587-e994-f7f399421020"
      },
      "source": [
        "pd.Series(y_pred).apply(lambda x: conv(x))"
      ],
      "execution_count": 104,
      "outputs": [
        {
          "output_type": "execute_result",
          "data": {
            "text/plain": [
              "0        0\n",
              "1        0\n",
              "2        0\n",
              "3        0\n",
              "4        0\n",
              "        ..\n",
              "12795    0\n",
              "12796    0\n",
              "12797    0\n",
              "12798    0\n",
              "12799    0\n",
              "Length: 12800, dtype: int64"
            ]
          },
          "metadata": {
            "tags": []
          },
          "execution_count": 104
        }
      ]
    },
    {
      "cell_type": "code",
      "metadata": {
        "id": "N4Ic25kD3Qdn"
      },
      "source": [
        "y_pred = [1 if x >= 0.9 else 0 for x in y_pred]"
      ],
      "execution_count": 105,
      "outputs": []
    },
    {
      "cell_type": "code",
      "metadata": {
        "colab": {
          "base_uri": "https://localhost:8080/"
        },
        "id": "u9C1CXUC49UT",
        "outputId": "9a8ac736-8c13-44d9-aaf1-a10bfad0e641"
      },
      "source": [
        "print(accuracy_score(y_test, y_pred))\n",
        "print(precision_score(y_test, y_pred))\n",
        "print(recall_score(y_test, y_pred))\n",
        "print(\"f1_score\", f1_score(y_test, y_pred))"
      ],
      "execution_count": 106,
      "outputs": [
        {
          "output_type": "stream",
          "text": [
            "0.867734375\n",
            "0.9883720930232558\n",
            "0.09134873723804406\n",
            "f1_score 0.1672405312346286\n"
          ],
          "name": "stdout"
        }
      ]
    },
    {
      "cell_type": "code",
      "metadata": {
        "colab": {
          "base_uri": "https://localhost:8080/"
        },
        "id": "5hPpaCTT5MFk",
        "outputId": "45084b53-89a0-48d2-ba30-01cfbba53e42"
      },
      "source": [
        "from sklearn.metrics import accuracy_score, confusion_matrix, classification_report, recall_score, precision_score, f1_score\n",
        "\n",
        "print(classification_report(y_test, y_pred))"
      ],
      "execution_count": 107,
      "outputs": [
        {
          "output_type": "stream",
          "text": [
            "              precision    recall  f1-score   support\n",
            "\n",
            "           0       0.87      1.00      0.93     10939\n",
            "           1       0.99      0.09      0.17      1861\n",
            "\n",
            "    accuracy                           0.87     12800\n",
            "   macro avg       0.93      0.55      0.55     12800\n",
            "weighted avg       0.88      0.87      0.82     12800\n",
            "\n"
          ],
          "name": "stdout"
        }
      ]
    },
    {
      "cell_type": "markdown",
      "metadata": {
        "id": "QveJ6h6j5j9F"
      },
      "source": [
        "# Hyperparameter Tuning"
      ]
    },
    {
      "cell_type": "code",
      "metadata": {
        "colab": {
          "base_uri": "https://localhost:8080/"
        },
        "id": "jjT9dYu86ZxQ",
        "outputId": "60153450-a58c-4d27-f8e2-562105705817"
      },
      "source": [
        "rf = RandomForestRegressor(max_depth=10, random_state=42)\n",
        "rf.fit(X_train, y_train)\n",
        "y_pred = rf.predict(X_test)\n",
        "y_pred = [1 if x >= 0.5 else 0 for x in y_pred]\n",
        "print(accuracy_score(y_test, y_pred))"
      ],
      "execution_count": 108,
      "outputs": [
        {
          "output_type": "stream",
          "text": [
            "0.87875\n"
          ],
          "name": "stdout"
        }
      ]
    },
    {
      "cell_type": "code",
      "metadata": {
        "colab": {
          "base_uri": "https://localhost:8080/"
        },
        "id": "jtwo5nYA5Val",
        "outputId": "a8aa0a9c-4277-4cd3-d48a-1156e2611e71"
      },
      "source": [
        "rf = RandomForestRegressor(n_estimators=100, max_depth=12, random_state=100)\n",
        "rf.fit(X_train, y_train)\n",
        "y_pred = rf.predict(X_test)\n",
        "y_pred = [1 if x >= 0.5 else 0 for x in y_pred]\n",
        "print(accuracy_score(y_test, y_pred))"
      ],
      "execution_count": 109,
      "outputs": [
        {
          "output_type": "stream",
          "text": [
            "0.880546875\n"
          ],
          "name": "stdout"
        }
      ]
    },
    {
      "cell_type": "code",
      "metadata": {
        "colab": {
          "base_uri": "https://localhost:8080/"
        },
        "id": "zaAsUTsM6cCt",
        "outputId": "b8ebc53a-f87a-406b-eca0-1db95bf8156b"
      },
      "source": [
        "rf.feature_importances_"
      ],
      "execution_count": 110,
      "outputs": [
        {
          "output_type": "execute_result",
          "data": {
            "text/plain": [
              "array([0.06356246, 0.02069394, 0.30099493, 0.16608727, 0.26929528,\n",
              "       0.13935264, 0.00986312, 0.00915189, 0.01026363, 0.01073483])"
            ]
          },
          "metadata": {
            "tags": []
          },
          "execution_count": 110
        }
      ]
    },
    {
      "cell_type": "code",
      "metadata": {
        "colab": {
          "base_uri": "https://localhost:8080/",
          "height": 377
        },
        "id": "RkUpk5Mw9oK8",
        "outputId": "a7c068f6-4d10-49a9-bbef-f8ef095b2ef0"
      },
      "source": [
        "plt.figure(figsize=(20, 8))\n",
        "sns.barplot(x = X_train.columns, y= rf.feature_importances_);"
      ],
      "execution_count": 116,
      "outputs": [
        {
          "output_type": "display_data",
          "data": {
            "image/png": "[encoded data removed]",
            "text/plain": [
              "<Figure size 1440x576 with 1 Axes>"
            ]
          },
          "metadata": {
            "tags": [],
            "needs_background": "light"
          }
        }
      ]
    },
    {
      "cell_type": "code",
      "metadata": {
        "id": "ofMEchrR-CqP"
      },
      "source": [
        ""
      ],
      "execution_count": null,
      "outputs": []
    }
  ]
}